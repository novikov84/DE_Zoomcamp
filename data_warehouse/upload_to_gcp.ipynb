{
 "cells": [
  {
   "cell_type": "code",
   "execution_count": 4,
   "metadata": {},
   "outputs": [],
   "source": [
    "from google.cloud import storage\n",
    "import requests"
   ]
  },
  {
   "cell_type": "code",
   "execution_count": 11,
   "metadata": {},
   "outputs": [],
   "source": [
    "def upload_url_to_gcs(bucket_name, source_url, destination_blob_name):\n",
    "    \"\"\"\n",
    "    Uploads content from a URL to a Google Cloud Storage bucket.\n",
    "    \n",
    "    Parameters:\n",
    "    - bucket_name: Name of the GCS bucket.\n",
    "    - source_url: URL of the file to download and upload.\n",
    "    - destination_blob_name: GCS blob name including the path.\n",
    "    \"\"\"\n",
    "    # Initialize GCS client and bucket\n",
    "    storage_client = storage.Client(project = \"sound-oasis-309708\")\n",
    "    bucket = storage_client.bucket(bucket_name)\n",
    "    \n",
    "    # Initialize blob\n",
    "    blob = bucket.blob(destination_blob_name)\n",
    "    \n",
    "    # Fetch content from URL\n",
    "    response = requests.get(source_url, stream=True)\n",
    "    response.raise_for_status()  # Ensure the request was successful\n",
    "    \n",
    "    # Upload content to GCS\n",
    "    blob.upload_from_string(response.content, content_type='application/octet-stream')\n",
    "    \n",
    "    print(f\"File from {source_url} uploaded to {destination_blob_name}.\")\n",
    "\n"
   ]
  },
  {
   "cell_type": "code",
   "execution_count": 13,
   "metadata": {},
   "outputs": [
    {
     "name": "stdout",
     "output_type": "stream",
     "text": [
      "File from https://d37ci6vzurychx.cloudfront.net/trip-data/green_tripdata_2022-01.parquet uploaded to green_tripdata_2022/01.parquet.\n",
      "File from https://d37ci6vzurychx.cloudfront.net/trip-data/green_tripdata_2022-02.parquet uploaded to green_tripdata_2022/02.parquet.\n",
      "File from https://d37ci6vzurychx.cloudfront.net/trip-data/green_tripdata_2022-03.parquet uploaded to green_tripdata_2022/03.parquet.\n",
      "File from https://d37ci6vzurychx.cloudfront.net/trip-data/green_tripdata_2022-04.parquet uploaded to green_tripdata_2022/04.parquet.\n",
      "File from https://d37ci6vzurychx.cloudfront.net/trip-data/green_tripdata_2022-05.parquet uploaded to green_tripdata_2022/05.parquet.\n",
      "File from https://d37ci6vzurychx.cloudfront.net/trip-data/green_tripdata_2022-06.parquet uploaded to green_tripdata_2022/06.parquet.\n",
      "File from https://d37ci6vzurychx.cloudfront.net/trip-data/green_tripdata_2022-07.parquet uploaded to green_tripdata_2022/07.parquet.\n",
      "File from https://d37ci6vzurychx.cloudfront.net/trip-data/green_tripdata_2022-08.parquet uploaded to green_tripdata_2022/08.parquet.\n",
      "File from https://d37ci6vzurychx.cloudfront.net/trip-data/green_tripdata_2022-09.parquet uploaded to green_tripdata_2022/09.parquet.\n",
      "File from https://d37ci6vzurychx.cloudfront.net/trip-data/green_tripdata_2022-10.parquet uploaded to green_tripdata_2022/10.parquet.\n",
      "File from https://d37ci6vzurychx.cloudfront.net/trip-data/green_tripdata_2022-11.parquet uploaded to green_tripdata_2022/11.parquet.\n",
      "File from https://d37ci6vzurychx.cloudfront.net/trip-data/green_tripdata_2022-12.parquet uploaded to green_tripdata_2022/12.parquet.\n"
     ]
    }
   ],
   "source": [
    "# Example usage\n",
    "bucket_name = 'green_big_warehouse'\n",
    "base_url = 'https://d37ci6vzurychx.cloudfront.net/trip-data/green_tripdata_2022-'\n",
    "\n",
    "months = ['0'+str(x) for x in range(1, 10)]\n",
    "months.extend(['10', '11', '12'])\n",
    "\n",
    "for month_suffix in months:\n",
    "    source_url = f\"{base_url}{month_suffix}.parquet\"\n",
    "    destination_blob_name = f\"green_tripdata_2022/{month_suffix}.parquet\"  # Adjusted path\n",
    "    upload_url_to_gcs(bucket_name, source_url, destination_blob_name)\n"
   ]
  }
 ],
 "metadata": {
  "kernelspec": {
   "display_name": "sql",
   "language": "python",
   "name": "python3"
  },
  "language_info": {
   "codemirror_mode": {
    "name": "ipython",
    "version": 3
   },
   "file_extension": ".py",
   "mimetype": "text/x-python",
   "name": "python",
   "nbconvert_exporter": "python",
   "pygments_lexer": "ipython3",
   "version": "3.11.7"
  }
 },
 "nbformat": 4,
 "nbformat_minor": 2
}
